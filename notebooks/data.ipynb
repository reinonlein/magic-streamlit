{
 "cells": [
  {
   "cell_type": "code",
   "execution_count": 1,
   "metadata": {},
   "outputs": [
    {
     "name": "stdout",
     "output_type": "stream",
     "text": [
      "Intel MKL WARNING: Support of Intel(R) Streaming SIMD Extensions 4.2 (Intel(R) SSE4.2) enabled only processors has been deprecated. Intel oneAPI Math Kernel Library 2025.0 will require Intel(R) Advanced Vector Extensions (Intel(R) AVX) instructions.\n",
      "Intel MKL WARNING: Support of Intel(R) Streaming SIMD Extensions 4.2 (Intel(R) SSE4.2) enabled only processors has been deprecated. Intel oneAPI Math Kernel Library 2025.0 will require Intel(R) Advanced Vector Extensions (Intel(R) AVX) instructions.\n"
     ]
    }
   ],
   "source": [
    "import pandas as pd\n",
    "import numpy as np\n",
    "\n",
    "pd.set_option('display.max_rows', None)\n",
    "pd.set_option('display.max_columns', None)"
   ]
  },
  {
   "cell_type": "code",
   "execution_count": 2,
   "metadata": {},
   "outputs": [],
   "source": [
    "# Helper functions\n",
    "def assign_color(color_identity):\n",
    "    if (len(color_identity) == 0):\n",
    "        return \"colorless\"\n",
    "    elif (len(color_identity) > 1):\n",
    "        return \"multicolor\"\n",
    "    elif (color_identity == ['W']):\n",
    "        return \"white\"\n",
    "    elif (color_identity == ['U']):\n",
    "        return \"blue\"\n",
    "    elif (color_identity == ['B']):\n",
    "        return \"black\"\n",
    "    elif (color_identity == ['R']):\n",
    "        return \"red\"\n",
    "    elif (color_identity == ['G']):\n",
    "        return \"green\""
   ]
  },
  {
   "cell_type": "code",
   "execution_count": 12,
   "metadata": {},
   "outputs": [],
   "source": [
    "scanned_cards = (\n",
    "    pd.read_csv(\"../data/all-folders.csv\", skiprows=1)\n",
    "    .loc[lambda d: ~d[\"Folder Name\"].isin([\"Magic Box (current)\", \"15 euro MP (ontdubbeld)\"])]\n",
    "    .assign(Value=lambda d: d[\"MARKET\"].astype(float))\n",
    "    .assign(ID=lambda d: d[\"Set Code\"] + \"_\" + d[\"Card Number\"])\n",
    "    .assign(TotalQuantity=lambda d: d.groupby(\"ID\")[\"Quantity\"].transform(\"sum\"))\n",
    "    .assign(BoxedQuantity = lambda d: d.loc[lambda d: d[\"Folder Name\"].isin([\"Magic Binder\", \"Magic Box\", \"Oude kaarten\", \"The Lord of the Rings\"])].groupby(\"ID\")[\"Quantity\"].transform(\"sum\"))\n",
    "    .assign(BoxedQuantity = lambda d: d.groupby(\"ID\")[\"BoxedQuantity\"].transform(\"sum\"))\n",
    "    .assign(OtherQuantity = lambda d: d.loc[lambda d: ~d[\"Folder Name\"].isin([\"Magic Binder\", \"Magic Box\", \"Oude kaarten\", \"The Lord of the Rings\"])].groupby(\"ID\")[\"Quantity\"].transform(\"sum\"))\n",
    "    .assign(OtherQuantity = lambda d: d[\"OtherQuantity\"] - d[\"Quantity\"])\n",
    "    .assign(\n",
    "        NormalQuantity=lambda d: d.loc[lambda d: d[\"Printing\"] == \"Normal\"]\n",
    "        .groupby(\"ID\")[\"Quantity\"]\n",
    "        .transform(\"sum\")\n",
    "    )\n",
    "    .assign(\n",
    "        FoilQuantity=lambda d: d.loc[\n",
    "            lambda d: d[\"Printing\"].isin([\"Foil\", \"Etched Foil\"])\n",
    "        ]\n",
    "        .groupby(\"ID\")[\"Quantity\"]\n",
    "        .transform(\"sum\")\n",
    "    )\n",
    "    .assign(\n",
    "        image_url=lambda d: \"https://cards.scryfall.io/normal/front/c/4/c40f60fe-0f81-43a8-9205-57cf718db81e.jpg\"\n",
    "    )\n",
    "    .sort_values(\"Card Name\")\n",
    "    .fillna(0)\n",
    ")"
   ]
  },
  {
   "cell_type": "code",
   "execution_count": 13,
   "metadata": {},
   "outputs": [],
   "source": [
    "# Get 'default cards' from https://scryfall.com/docs/api/bulk-data\n",
    "card_info = (\n",
    "    pd.read_json(\"../data/default-cards.json\")\n",
    "    .assign(set_code = lambda d: d[\"set\"].str.upper())\n",
    "    .assign(join_id = lambda d: d[\"set_code\"] + \"_\" + d[\"collector_number\"])\n",
    ")"
   ]
  },
  {
   "cell_type": "markdown",
   "metadata": {},
   "source": []
  },
  {
   "cell_type": "code",
   "execution_count": 14,
   "metadata": {},
   "outputs": [],
   "source": [
    "my_cards = (\n",
    "    scanned_cards\n",
    "    .merge(card_info, left_on=\"ID\", right_on=\"join_id\")\n",
    "    .assign(color=lambda d: d['color_identity'].apply(assign_color))\n",
    "    .assign(card_type = lambda d: d[\"type_line\"].apply(lambda x: x.split(\" — \")[0]))\n",
    "    .assign(card_subtype = lambda d: d[\"type_line\"].apply(lambda x: x.split(\"//\")[0].split(\" — \")[1] if \" — \" in x else x.split(\" — \")[0]))\n",
    "    .assign(\n",
    "        cardface_images=lambda df: np.where(\n",
    "            df[\"card_faces\"].isna(),\n",
    "            df[\"card_faces\"],\n",
    "            df[\"card_faces\"].str[0].str[\"image_uris\"]#.str[\"png\"]\n",
    "        )\n",
    "    )\n",
    "    .assign(\n",
    "        image_uris=lambda df: np.where(\n",
    "            df[\"image_uris\"].isna(),\n",
    "            df[\"cardface_images\"],\n",
    "            df[\"image_uris\"]\n",
    "        )\n",
    "    )\n",
    "    [[\n",
    "    \"Folder Name\",\n",
    "    \"Quantity\",\n",
    "    \"Card Name\",\n",
    "    \"Set Code\",\n",
    "    \"Set Name\",\n",
    "    \"Card Number\",\n",
    "    \"Printing\",\n",
    "    \"Value\",\n",
    "    \"ID\",\n",
    "    \"TotalQuantity\",\n",
    "    \"NormalQuantity\",\n",
    "    \"FoilQuantity\",\n",
    "    \"BoxedQuantity\",\n",
    "    \"OtherQuantity\",\n",
    "    \"image_url\",\n",
    "    \"id\",\n",
    "    \"name\",\n",
    "    \"lang\",\n",
    "    \"released_at\",\n",
    "    \"uri\",\n",
    "    \"scryfall_uri\",\n",
    "    \"layout\",\n",
    "    \"highres_image\",\n",
    "    \"image_status\",\n",
    "    \"card_faces\",\n",
    "    \"image_uris\",\n",
    "    \"mana_cost\",\n",
    "    \"cmc\",\n",
    "    \"type_line\",\n",
    "    \"card_type\",\n",
    "    \"card_subtype\",\n",
    "    \"oracle_text\",\n",
    "    \"power\",\n",
    "    \"toughness\",\n",
    "    \"color\",\n",
    "    \"colors\",\n",
    "    \"color_identity\",\n",
    "    \"keywords\",\n",
    "    \"foil\",\n",
    "    \"nonfoil\",\n",
    "    \"set_id\",\n",
    "    \"set\",\n",
    "    \"set_name\",\n",
    "    \"set_type\",\n",
    "    \"set_uri\",\n",
    "    \"collector_number\",\n",
    "    \"rarity\",\n",
    "    \"flavor_text\",\n",
    "    \"border_color\",\n",
    "    \"frame\",\n",
    "    \"prices\",\n",
    "    \"set_code\",\n",
    "    \"join_id\"]]\n",
    ")"
   ]
  },
  {
   "cell_type": "code",
   "execution_count": 15,
   "metadata": {},
   "outputs": [],
   "source": [
    "# Add image url columns\n",
    "expanded_urls = pd.json_normalize(my_cards['image_uris'])\n",
    "my_cards = pd.concat([my_cards, expanded_urls], axis=1).assign(image_url = lambda d: d[\"normal\"])"
   ]
  },
  {
   "cell_type": "code",
   "execution_count": 16,
   "metadata": {},
   "outputs": [],
   "source": [
    "my_cards.to_csv(\"../data/my-cards.csv\", index=False)"
   ]
  },
  {
   "cell_type": "code",
   "execution_count": 17,
   "metadata": {},
   "outputs": [],
   "source": [
    "dragonshield_import_df = (\n",
    "    scanned_cards\n",
    "    .assign(dubbel_status = lambda d: np.where(d[\"BoxedQuantity\"] > 0, \"Alles dubbel\", np.where(d[\"Quantity\"] > 1, \"1 houden\", \"Nieuw\")))\n",
    "    .assign(naar_magic_box = lambda d: np.where(d[\"dubbel_status\"].isin([\"Nieuw\", \"1 houden\"]), 1, 0))\n",
    "    .assign(naar_dubbel = lambda d: np.where(d[\"dubbel_status\"] == \"Alles dubbel\", d[\"Quantity\"], np.where(d[\"dubbel_status\"] == \"1 houden\", d[\"Quantity\"] - 1, 0)))\n",
    "    [[\n",
    "       'Folder Name', 'Quantity', 'Trade Quantity', 'Card Name', 'Set Code',\n",
    "       'Set Name', 'Card Number', 'Condition', 'Printing', 'Language',\n",
    "       'Price Bought', 'Date Bought', 'dubbel_status', \"naar_magic_box\", \"naar_dubbel\"\n",
    "    ]]\n",
    ")"
   ]
  },
  {
   "cell_type": "code",
   "execution_count": 18,
   "metadata": {},
   "outputs": [],
   "source": [
    "dragonshield_import_df.to_csv(\"../data/dragonshield-import.csv\", index=False)"
   ]
  },
  {
   "cell_type": "code",
   "execution_count": 19,
   "metadata": {},
   "outputs": [],
   "source": [
    "dubbel = pd.read_csv(\"../data/dubbel.csv\").assign(copy = lambda d: d[\"Quantity\"].astype(str) + \" \" + d[\"Card Name\"])"
   ]
  },
  {
   "cell_type": "code",
   "execution_count": 20,
   "metadata": {},
   "outputs": [],
   "source": [
    "dubbel[\"copy\"].to_csv(\"../data/verkooplijst.csv\", index=False)"
   ]
  },
  {
   "cell_type": "code",
   "execution_count": null,
   "metadata": {},
   "outputs": [],
   "source": []
  }
 ],
 "metadata": {
  "kernelspec": {
   "display_name": "Python 3",
   "language": "python",
   "name": "python3"
  },
  "language_info": {
   "codemirror_mode": {
    "name": "ipython",
    "version": 3
   },
   "file_extension": ".py",
   "mimetype": "text/x-python",
   "name": "python",
   "nbconvert_exporter": "python",
   "pygments_lexer": "ipython3",
   "version": "3.11.8"
  }
 },
 "nbformat": 4,
 "nbformat_minor": 2
}
